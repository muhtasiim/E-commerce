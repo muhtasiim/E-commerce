{
 "cells": [
  {
   "cell_type": "code",
   "execution_count": null,
   "metadata": {},
   "outputs": [],
   "source": [
    "<!DOCTYPE html>\n",
    "<html>\n",
    "<head>\n",
    "    <title>Simple E-commerce</title>\n",
    "    <link rel=\"stylesheet\" type=\"text/css\" href=\"style.css\">\n",
    "</head>\n",
    "<body>\n",
    "    <h1>Welcome to Our E-commerce Store</h1>\n",
    "\n",
    "    <div class=\"product\">\n",
    "        <img src=\"product1.jpg\" alt=\"Product 1\">\n",
    "        <h2>Product 1</h2>\n",
    "        <p>Price: $10</p>\n",
    "        <button onclick=\"addToCart('Product 1', 10)\">Add to Cart</button>\n",
    "    </div>\n",
    "\n",
    "    <div class=\"product\">\n",
    "        <img src=\"product2.jpg\" alt=\"Product 2\">\n",
    "        <h2>Product 2</h2>\n",
    "        <p>Price: $15</p>\n",
    "        <button onclick=\"addToCart('Product 2', 15)\">Add to Cart</button>\n",
    "    </div>\n",
    "\n",
    "    <h2>Shopping Cart</h2>\n",
    "    <div id=\"cart\">\n",
    "        <!-- Cart items will be displayed here -->\n",
    "    </div>\n",
    "\n",
    "    <script src=\"script.js\"></script>\n",
    "</body>\n",
    "</html>"
   ]
  }
 ],
 "metadata": {
  "language_info": {
   "name": "python"
  }
 },
 "nbformat": 4,
 "nbformat_minor": 2
}
